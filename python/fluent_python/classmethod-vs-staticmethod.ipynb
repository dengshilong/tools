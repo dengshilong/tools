{
 "cells": [
  {
   "cell_type": "code",
   "execution_count": 6,
   "metadata": {},
   "outputs": [
    {
     "name": "stdout",
     "output_type": "stream",
     "text": [
      "(<class '__main__.Demo'>,)\n",
      "(<class '__main__.Demo'>, 'spam')\n",
      "(<class '__main__.Demo'>,)\n",
      "(<class '__main__.Demo'>, 'spam')\n",
      "()\n",
      "('spam',)\n",
      "()\n",
      "('spam',)\n"
     ]
    }
   ],
   "source": [
    "# 总的来说, staticmethod没什么用，而classmethod主要用途构造函数\n",
    "class A(object):\n",
    "    pass\n",
    "\n",
    "class Demo(A):\n",
    "    @classmethod\n",
    "    def klassmeth(*args):\n",
    "        return args\n",
    "    \n",
    "    @staticmethod\n",
    "    def statmeth(*args):\n",
    "        return args #\n",
    "\n",
    "if __name__ == \"__main__\":\n",
    "    print(Demo.klassmeth())\n",
    "    print(Demo.klassmeth('spam'))\n",
    "    print(Demo().klassmeth())\n",
    "    print(Demo().klassmeth('spam'))\n",
    "    print(Demo.statmeth())\n",
    "    print(Demo.statmeth('spam'))\n",
    "    print(Demo().statmeth())\n",
    "    print(Demo().statmeth('spam'))"
   ]
  },
  {
   "cell_type": "code",
   "execution_count": null,
   "metadata": {},
   "outputs": [],
   "source": []
  }
 ],
 "metadata": {
  "kernelspec": {
   "display_name": "Python 3",
   "language": "python",
   "name": "python3"
  },
  "language_info": {
   "codemirror_mode": {
    "name": "ipython",
    "version": 3
   },
   "file_extension": ".py",
   "mimetype": "text/x-python",
   "name": "python",
   "nbconvert_exporter": "python",
   "pygments_lexer": "ipython3",
   "version": "3.7.3"
  }
 },
 "nbformat": 4,
 "nbformat_minor": 2
}
