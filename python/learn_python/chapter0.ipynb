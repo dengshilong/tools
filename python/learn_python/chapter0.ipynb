{
 "cells": [
  {
   "cell_type": "markdown",
   "metadata": {},
   "source": [
    "几乎所有的编程语言，都是由3种基本的程序结构组成，顺序，循环，选择，弄懂这三种后，就可以写程序了。下面且听我一一道来。\n",
    "\n",
    "先来看看print语句"
   ]
  },
  {
   "cell_type": "markdown",
   "metadata": {},
   "source": [
    "### print"
   ]
  },
  {
   "cell_type": "code",
   "execution_count": 1,
   "metadata": {},
   "outputs": [
    {
     "name": "stdout",
     "output_type": "stream",
     "text": [
      "邓世龙\n"
     ]
    }
   ],
   "source": [
    "print('邓世龙')"
   ]
  },
  {
   "cell_type": "code",
   "execution_count": 4,
   "metadata": {},
   "outputs": [
    {
     "name": "stdout",
     "output_type": "stream",
     "text": [
      "1 2\n"
     ]
    }
   ],
   "source": [
    "a = 1\n",
    "b = 2\n",
    "print(a, b)"
   ]
  },
  {
   "cell_type": "markdown",
   "metadata": {},
   "source": [
    "### 顺序结构"
   ]
  },
  {
   "cell_type": "markdown",
   "metadata": {},
   "source": [
    "然后来看顺序结构, 顺序结构很容易理解，就是程序是一句句往下执行，"
   ]
  },
  {
   "cell_type": "code",
   "execution_count": 6,
   "metadata": {},
   "outputs": [
    {
     "name": "stdout",
     "output_type": "stream",
     "text": [
      "3 4\n"
     ]
    }
   ],
   "source": [
    "# 程序是顺序执行的，最后a为3，b为4\n",
    "a = 1\n",
    "b = 2\n",
    "a = 3\n",
    "b = 4\n",
    "print(a, b)"
   ]
  },
  {
   "cell_type": "code",
   "execution_count": 5,
   "metadata": {},
   "outputs": [
    {
     "name": "stdout",
     "output_type": "stream",
     "text": [
      "0\n",
      "1\n",
      "3\n",
      "6\n",
      "10\n"
     ]
    }
   ],
   "source": [
    "s = 0\n",
    "print(s)\n",
    "s = s + 1\n",
    "print(s)\n",
    "s = s + 2\n",
    "print(s)\n",
    "s = s + 3\n",
    "print(s)\n",
    "s = s + 4\n",
    "print(s)"
   ]
  },
  {
   "cell_type": "markdown",
   "metadata": {},
   "source": [
    "### list(列表)"
   ]
  },
  {
   "cell_type": "markdown",
   "metadata": {},
   "source": [
    "接下来看看循环结构。现在我们要完成一个计算任务，计算1 + 2 + 3 + ... + 10的和，我们可以从1一直加到10，这就需要循环。在绝大多数编程语言里，都提供for或者while来完成循环，这里先来看for, 而在这之前，先了解下list, 也就是列表。\n",
    "\n",
    "list相当于其它编程语言里的数组，主要是用来存放统一类型的数据"
   ]
  },
  {
   "cell_type": "code",
   "execution_count": 3,
   "metadata": {},
   "outputs": [
    {
     "name": "stdout",
     "output_type": "stream",
     "text": [
      "<class 'list'>\n",
      "6\n",
      "1\n",
      "3\n",
      "['__add__', '__class__', '__contains__', '__delattr__', '__delitem__', '__dir__', '__doc__', '__eq__', '__format__', '__ge__', '__getattribute__', '__getitem__', '__gt__', '__hash__', '__iadd__', '__imul__', '__init__', '__init_subclass__', '__iter__', '__le__', '__len__', '__lt__', '__mul__', '__ne__', '__new__', '__reduce__', '__reduce_ex__', '__repr__', '__reversed__', '__rmul__', '__setattr__', '__setitem__', '__sizeof__', '__str__', '__subclasshook__', 'append', 'clear', 'copy', 'count', 'extend', 'index', 'insert', 'pop', 'remove', 'reverse', 'sort']\n"
     ]
    }
   ],
   "source": [
    "# 列表\n",
    "x = [1, 2, 3, 4, 5, 6]\n",
    "print(type(x))  # 显示x的类型\n",
    "print(len(x))   # 求列表的长度\n",
    "print(x[0])     # 取第一个值\n",
    "print(x[2])     # 取第三个值\n",
    "print(dir(x))   # 显示列表的变量和方法"
   ]
  },
  {
   "cell_type": "markdown",
   "metadata": {},
   "source": [
    "### range"
   ]
  },
  {
   "cell_type": "markdown",
   "metadata": {},
   "source": [
    "1到6的列表手写问题也不大，但1到100，1到1000的列表如果手写会疯掉的，所以Python提供了range这个函数。"
   ]
  },
  {
   "cell_type": "code",
   "execution_count": 4,
   "metadata": {
    "scrolled": true
   },
   "outputs": [
    {
     "name": "stdout",
     "output_type": "stream",
     "text": [
      "[0, 1, 2, 3, 4, 5, 6, 7, 8, 9]\n",
      "[1, 2, 3, 4, 5, 6, 7, 8, 9]\n",
      "[1, 3, 5, 7, 9]\n"
     ]
    }
   ],
   "source": [
    "# range使用\n",
    "x = list(range(10))\n",
    "print(x)\n",
    "y = list(range(1, 10))\n",
    "print(y)\n",
    "z = list(range(1, 10, 2))\n",
    "print(z)"
   ]
  },
  {
   "cell_type": "markdown",
   "metadata": {},
   "source": [
    "### 循环结构 for "
   ]
  },
  {
   "cell_type": "markdown",
   "metadata": {},
   "source": [
    "下面就是for循环的语法，注意for循环后面有冒号，之后print还要缩进"
   ]
  },
  {
   "cell_type": "code",
   "execution_count": 12,
   "metadata": {
    "scrolled": true
   },
   "outputs": [
    {
     "name": "stdout",
     "output_type": "stream",
     "text": [
      "1\n",
      "2\n",
      "3\n",
      "4\n",
      "5\n",
      "6\n",
      "7\n",
      "8\n",
      "9\n",
      "10\n"
     ]
    }
   ],
   "source": [
    "# for循环 打印1到10\n",
    "n = 10\n",
    "for i in range(1, n + 1):\n",
    "    print(i)"
   ]
  },
  {
   "cell_type": "markdown",
   "metadata": {},
   "source": [
    "现在我们就可以编写求1 + 2 + 3 ... + 10的和的程序"
   ]
  },
  {
   "cell_type": "code",
   "execution_count": 13,
   "metadata": {
    "scrolled": true
   },
   "outputs": [
    {
     "name": "stdout",
     "output_type": "stream",
     "text": [
      "55\n"
     ]
    }
   ],
   "source": [
    "# 循环，for循环求和, 求1 + 2 + ... + 10的和, \n",
    "\n",
    "s = 0\n",
    "n = 10\n",
    "for i in range(1, n + 1):\n",
    "    s = s + i\n",
    "print(s)"
   ]
  },
  {
   "cell_type": "markdown",
   "metadata": {},
   "source": [
    "### 选择 if"
   ]
  },
  {
   "cell_type": "markdown",
   "metadata": {},
   "source": [
    "现在我们要求1到10以内，所有偶数的和，这就会用到选择。\n",
    "\n",
    "那么如何判断是偶数呢？对2取余就行了，如果余数是0，就是偶数"
   ]
  },
  {
   "cell_type": "code",
   "execution_count": 16,
   "metadata": {},
   "outputs": [
    {
     "name": "stdout",
     "output_type": "stream",
     "text": [
      "True\n",
      "False\n"
     ]
    }
   ],
   "source": [
    "# 判断是不是偶数\n",
    "print(4 % 2 == 0)  # % 是求余操作\n",
    "print(3 % 2 == 0)"
   ]
  },
  {
   "cell_type": "markdown",
   "metadata": {},
   "source": [
    "现在加上if判断，求1到10以内所有偶数的和"
   ]
  },
  {
   "cell_type": "code",
   "execution_count": 14,
   "metadata": {},
   "outputs": [
    {
     "name": "stdout",
     "output_type": "stream",
     "text": [
      "30\n"
     ]
    }
   ],
   "source": [
    "# 选择，求10以内，所有偶数的和\n",
    "s = 0\n",
    "n = 10\n",
    "for i in range(1, n + 1):\n",
    "    if i % 2 == 0:\n",
    "        s = s + i\n",
    "print(s)"
   ]
  },
  {
   "cell_type": "markdown",
   "metadata": {},
   "source": [
    "#### 选择 and"
   ]
  },
  {
   "cell_type": "markdown",
   "metadata": {},
   "source": [
    "如果要求30以内，既能被3，又能被5整数的所有整数的和，这时候就会用到and操作"
   ]
  },
  {
   "cell_type": "code",
   "execution_count": 22,
   "metadata": {
    "scrolled": true
   },
   "outputs": [
    {
     "name": "stdout",
     "output_type": "stream",
     "text": [
      "45\n"
     ]
    }
   ],
   "source": [
    "# 选择，and(并)操作, 求30以内，既能被3，又能被5整数的所有整数的和\n",
    "s = 0\n",
    "n = 30\n",
    "for i in range(1, n + 1):\n",
    "    if i % 3 == 0 and i % 5 == 0:  # 有15，30\n",
    "        s = s + i\n",
    "print(s)"
   ]
  },
  {
   "cell_type": "markdown",
   "metadata": {},
   "source": [
    "#### 选择 or"
   ]
  },
  {
   "cell_type": "markdown",
   "metadata": {},
   "source": [
    "如果要求10以内，能被3，或能被5整数的所有整数的和, 这时候就会用到or操作"
   ]
  },
  {
   "cell_type": "code",
   "execution_count": 34,
   "metadata": {
    "scrolled": true
   },
   "outputs": [
    {
     "name": "stdout",
     "output_type": "stream",
     "text": [
      "33\n"
     ]
    }
   ],
   "source": [
    "# 选择，or(或)操作, 求10以内，能被3，或能被5整数的所有整数的和\n",
    "s = 0\n",
    "n = 10\n",
    "for i in range(1, n + 1):\n",
    "    if i % 3 == 0 or i % 5 == 0:  # 有 3，5，6，9，10\n",
    "        s = s + i\n",
    "print(s)"
   ]
  },
  {
   "cell_type": "markdown",
   "metadata": {},
   "source": [
    "#### continue 进入下一次循环"
   ]
  },
  {
   "cell_type": "markdown",
   "metadata": {},
   "source": [
    "求10以内，能被3或能被5整数, 但不能被2整除的所有整数的和，这时候可以继续使用and和or的组合来判断，但更方便的，还是用continue,"
   ]
  },
  {
   "cell_type": "code",
   "execution_count": 29,
   "metadata": {
    "scrolled": true
   },
   "outputs": [
    {
     "name": "stdout",
     "output_type": "stream",
     "text": [
      "17\n"
     ]
    }
   ],
   "source": [
    "# continue 求10以内，能被3或能被5整数, 但不能被2整除的所有整数的和\n",
    "s = 0\n",
    "n = 10\n",
    "for i in range(1, n + 1):\n",
    "    if i % 2 == 0:\n",
    "        continue\n",
    "    if i % 3 == 0 or i % 5 == 0:  # 有 3，5，9\n",
    "        s = s + i\n",
    "print(s)\n"
   ]
  },
  {
   "cell_type": "markdown",
   "metadata": {},
   "source": [
    "### 循环 while"
   ]
  },
  {
   "cell_type": "markdown",
   "metadata": {},
   "source": [
    "for循环也可以用while循环来代替, while后面跟着判断条件，如果条件为True, 也就是为真，就会一直执行while循环里的内容; 如果为False，就会跳出循环。例如求1 + 2 + ... + 10的和，用for循环编写如下"
   ]
  },
  {
   "cell_type": "code",
   "execution_count": null,
   "metadata": {},
   "outputs": [],
   "source": [
    "s = 0\n",
    "n = 10\n",
    "for i in range(1, n + 1):\n",
    "    s = s + i\n",
    "print(s)"
   ]
  },
  {
   "cell_type": "markdown",
   "metadata": {},
   "source": [
    "改成while，如下"
   ]
  },
  {
   "cell_type": "code",
   "execution_count": 30,
   "metadata": {},
   "outputs": [
    {
     "name": "stdout",
     "output_type": "stream",
     "text": [
      "55\n"
     ]
    }
   ],
   "source": [
    "# 循环 while, 求1 + 2 + ... + 10的和, \n",
    "s = 0\n",
    "i = 1\n",
    "n = 10\n",
    "while i <= n:\n",
    "    s = s + i\n",
    "    i = i + 1\n",
    "print(s)"
   ]
  },
  {
   "cell_type": "markdown",
   "metadata": {},
   "source": [
    "既然有了for循环, 为何还要有while循环呢？考虑这样一个问题，求前6个能被3或5整除的整数的和。这时如果用for循环，就不是很合适，因为你不知到要到什么时候才能结束, 这种情况用while循环就很方便。"
   ]
  },
  {
   "cell_type": "code",
   "execution_count": 37,
   "metadata": {},
   "outputs": [
    {
     "name": "stdout",
     "output_type": "stream",
     "text": [
      "45\n"
     ]
    }
   ],
   "source": [
    "# while, 求前6个能被3或5整除的整数的和\n",
    "s = 0\n",
    "i = 1\n",
    "count = 0\n",
    "n = 6\n",
    "while count < n:\n",
    "    if i % 3 == 0 or i % 5 == 0: # 前6个为 3，5，6，9，10, 12\n",
    "        s = s + i\n",
    "        count = count + 1\n",
    "    i += 1\n",
    "print(s)"
   ]
  },
  {
   "cell_type": "markdown",
   "metadata": {},
   "source": [
    "也就是说for循环主要用于确定循环次数的场合，而while循环主要用途循环次数不定的场合"
   ]
  },
  {
   "cell_type": "markdown",
   "metadata": {},
   "source": [
    "#### 循环 break"
   ]
  },
  {
   "cell_type": "markdown",
   "metadata": {},
   "source": [
    "break用于跳出循环，上面的例子也可以修改为如下程序"
   ]
  },
  {
   "cell_type": "code",
   "execution_count": 38,
   "metadata": {
    "scrolled": true
   },
   "outputs": [
    {
     "name": "stdout",
     "output_type": "stream",
     "text": [
      "45\n"
     ]
    }
   ],
   "source": [
    "# break, 求前6个能被3或5整除的整数的和\n",
    "s = 0\n",
    "i = 1\n",
    "count = 0\n",
    "n = 6\n",
    "while True:\n",
    "    if i % 3 == 0 or i % 5 == 0: # 前6个为 3，5，6，9，10, 12\n",
    "        s = s + i\n",
    "        count = count + 1\n",
    "        if count == n:\n",
    "            break\n",
    "    i += 1\n",
    "print(s)"
   ]
  },
  {
   "cell_type": "markdown",
   "metadata": {},
   "source": [
    "下面再讲讲set, dict还有函数，就可以编写实际代码了。"
   ]
  },
  {
   "cell_type": "markdown",
   "metadata": {},
   "source": [
    "### set "
   ]
  },
  {
   "cell_type": "markdown",
   "metadata": {},
   "source": [
    "set就是集合，主要用来提高查询速度"
   ]
  },
  {
   "cell_type": "code",
   "execution_count": null,
   "metadata": {},
   "outputs": [],
   "source": [
    "# set, 集合，提高查询速度\n",
    "s = list(range(1, 100000000))\n",
    "x = set(s)\n",
    "print('#')\n",
    "print(99999999 in s)\n",
    "print('##')\n",
    "print(99999999 in x)"
   ]
  },
  {
   "cell_type": "markdown",
   "metadata": {},
   "source": [
    "在上面的例子中99999999 in s这里会有些卡顿，因为它要从s里的第一个数从前往后一个一个比较，而99999999 in x这里执行非常快，因为set是优化过的数据结构，底层实现是哈希表，可以很快的进行查询"
   ]
  },
  {
   "cell_type": "markdown",
   "metadata": {},
   "source": [
    "### dict"
   ]
  },
  {
   "cell_type": "markdown",
   "metadata": {},
   "source": [
    "dict，也就是字典，和set类似，只不过多了个value值，也用来提高查询速度，应用广泛，例如查询身份证号对应的一些个人用户信息等等"
   ]
  },
  {
   "cell_type": "code",
   "execution_count": 1,
   "metadata": {
    "scrolled": false
   },
   "outputs": [
    {
     "name": "stdout",
     "output_type": "stream",
     "text": [
      "65\n"
     ]
    }
   ],
   "source": [
    "# dict, 字典，key, value形式，用来提高查询速度，应用广泛，例如查询身份证号对应的一些个人用户信息\n",
    "d = {'a': 65, 'b': 66}\n",
    "print(d['a'])"
   ]
  },
  {
   "cell_type": "markdown",
   "metadata": {},
   "source": [
    "### 函数"
   ]
  },
  {
   "cell_type": "markdown",
   "metadata": {},
   "source": [
    "函数就是一些可以重复利用的代码段。例如要求1到10的所有整数的和，与求2到5所有整数的和，这是两个类似的问题，就可以编写求和函数来解决，求和函数如下。声明一个函数是用def关键字，然后是函数名，后面跟着参数。"
   ]
  },
  {
   "cell_type": "code",
   "execution_count": 2,
   "metadata": {},
   "outputs": [
    {
     "name": "stdout",
     "output_type": "stream",
     "text": [
      "55\n",
      "14\n"
     ]
    }
   ],
   "source": [
    "# 函数\n",
    "def my_sum(a, b):\n",
    "    s = 0\n",
    "    for i in range(a, b + 1):\n",
    "        s = s + i\n",
    "    return s\n",
    "\n",
    "print(my_sum(1, 10))\n",
    "print(my_sum(2, 5))"
   ]
  },
  {
   "cell_type": "markdown",
   "metadata": {},
   "source": [
    "到了这里，三种程序结构就讲完了，弄懂这三种结构就可以编写更大一些的程序，解决实际问题。而实际上，绝大多数程序，都是由这三种基本结构构成的，无非就是更复杂的数据结构和算法，还有调用库函数。"
   ]
  }
 ],
 "metadata": {
  "kernelspec": {
   "display_name": "Python 3",
   "language": "python",
   "name": "python3"
  },
  "language_info": {
   "codemirror_mode": {
    "name": "ipython",
    "version": 3
   },
   "file_extension": ".py",
   "mimetype": "text/x-python",
   "name": "python",
   "nbconvert_exporter": "python",
   "pygments_lexer": "ipython3",
   "version": "3.7.3"
  }
 },
 "nbformat": 4,
 "nbformat_minor": 2
}
