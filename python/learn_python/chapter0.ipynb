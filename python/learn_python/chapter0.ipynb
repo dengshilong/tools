{
 "cells": [
  {
   "cell_type": "code",
   "execution_count": 1,
   "metadata": {},
   "outputs": [
    {
     "name": "stdout",
     "output_type": "stream",
     "text": [
      "邓世龙\n"
     ]
    }
   ],
   "source": [
    "print('邓世龙')"
   ]
  },
  {
   "cell_type": "code",
   "execution_count": 4,
   "metadata": {},
   "outputs": [
    {
     "name": "stdout",
     "output_type": "stream",
     "text": [
      "1 2\n"
     ]
    }
   ],
   "source": [
    "a = 1\n",
    "b = 2\n",
    "print(a, b)"
   ]
  },
  {
   "cell_type": "code",
   "execution_count": 6,
   "metadata": {},
   "outputs": [
    {
     "name": "stdout",
     "output_type": "stream",
     "text": [
      "3 4\n"
     ]
    }
   ],
   "source": [
    "# 程序是顺序执行的，最后a为3，b为4\n",
    "a = 1\n",
    "b = 2\n",
    "a = 3\n",
    "b = 4\n",
    "print(a, b)"
   ]
  },
  {
   "cell_type": "code",
   "execution_count": 5,
   "metadata": {},
   "outputs": [
    {
     "name": "stdout",
     "output_type": "stream",
     "text": [
      "0\n",
      "1\n",
      "3\n",
      "6\n",
      "10\n"
     ]
    }
   ],
   "source": [
    "s = 0\n",
    "print(s)\n",
    "s = s + 1\n",
    "print(s)\n",
    "s = s + 2\n",
    "print(s)\n",
    "s = s + 3\n",
    "print(s)\n",
    "s = s + 4\n",
    "print(s)"
   ]
  },
  {
   "cell_type": "code",
   "execution_count": 10,
   "metadata": {},
   "outputs": [
    {
     "name": "stdout",
     "output_type": "stream",
     "text": [
      "<class 'list'>\n",
      "6\n",
      "['__add__', '__class__', '__contains__', '__delattr__', '__delitem__', '__dir__', '__doc__', '__eq__', '__format__', '__ge__', '__getattribute__', '__getitem__', '__gt__', '__hash__', '__iadd__', '__imul__', '__init__', '__init_subclass__', '__iter__', '__le__', '__len__', '__lt__', '__mul__', '__ne__', '__new__', '__reduce__', '__reduce_ex__', '__repr__', '__reversed__', '__rmul__', '__setattr__', '__setitem__', '__sizeof__', '__str__', '__subclasshook__', 'append', 'clear', 'copy', 'count', 'extend', 'index', 'insert', 'pop', 'remove', 'reverse', 'sort']\n"
     ]
    }
   ],
   "source": [
    "# 列表\n",
    "x = [1, 2, 3, 4, 5, 6]\n",
    "print(type(x))  # 显示x的类型\n",
    "print(len(x))   # 求列表的长度\n",
    "print(dir(x))   # 显示列表的变量和方法"
   ]
  },
  {
   "cell_type": "code",
   "execution_count": 7,
   "metadata": {},
   "outputs": [
    {
     "name": "stdout",
     "output_type": "stream",
     "text": [
      "1\n",
      "2\n",
      "3\n",
      "4\n",
      "5\n",
      "6\n"
     ]
    }
   ],
   "source": [
    "# for循环\n",
    "x = [1, 2, 3, 4, 5, 6]\n",
    "for i in x: \n",
    "    print(i)"
   ]
  },
  {
   "cell_type": "code",
   "execution_count": 11,
   "metadata": {},
   "outputs": [
    {
     "name": "stdout",
     "output_type": "stream",
     "text": [
      "[0, 1, 2, 3, 4, 5, 6, 7, 8, 9]\n",
      "[1, 2, 3, 4, 5, 6, 7, 8, 9]\n",
      "[1, 3, 5, 7, 9]\n"
     ]
    }
   ],
   "source": [
    "# range使用\n",
    "x = list(range(10))\n",
    "print(x)\n",
    "y = list(range(1, 10))\n",
    "print(y)\n",
    "z = list(range(1, 10, 2))\n",
    "print(z)"
   ]
  },
  {
   "cell_type": "code",
   "execution_count": 12,
   "metadata": {},
   "outputs": [
    {
     "name": "stdout",
     "output_type": "stream",
     "text": [
      "1\n",
      "2\n",
      "3\n",
      "4\n",
      "5\n",
      "6\n",
      "7\n",
      "8\n",
      "9\n",
      "10\n"
     ]
    }
   ],
   "source": [
    "# 打印1到10\n",
    "n = 10\n",
    "for i in range(1, n + 1):\n",
    "    print(i)"
   ]
  },
  {
   "cell_type": "code",
   "execution_count": 13,
   "metadata": {},
   "outputs": [
    {
     "name": "stdout",
     "output_type": "stream",
     "text": [
      "55\n"
     ]
    }
   ],
   "source": [
    "# 循环，for循环求和, 求1 + 2 + ... + 10的和, \n",
    "\n",
    "s = 0\n",
    "n = 10\n",
    "for i in range(1, n + 1):\n",
    "    s = s + i\n",
    "print(s)"
   ]
  },
  {
   "cell_type": "code",
   "execution_count": 16,
   "metadata": {},
   "outputs": [
    {
     "name": "stdout",
     "output_type": "stream",
     "text": [
      "True\n",
      "False\n"
     ]
    }
   ],
   "source": [
    "# 判断是不是偶数\n",
    "print(4 % 2 == 0)  # % 是求余操作\n",
    "print(3 % 2 == 0)"
   ]
  },
  {
   "cell_type": "code",
   "execution_count": 14,
   "metadata": {},
   "outputs": [
    {
     "name": "stdout",
     "output_type": "stream",
     "text": [
      "30\n"
     ]
    }
   ],
   "source": [
    "# 选择，求10以内，所有偶数的和\n",
    "s = 0\n",
    "n = 10\n",
    "for i in range(1, n + 1):\n",
    "    if i % 2 == 0:\n",
    "        s = s + i\n",
    "print(s)"
   ]
  },
  {
   "cell_type": "code",
   "execution_count": 22,
   "metadata": {},
   "outputs": [
    {
     "name": "stdout",
     "output_type": "stream",
     "text": [
      "45\n"
     ]
    }
   ],
   "source": [
    "# 选择，and(并)操作, 求30以内，既能被3，又能被5整数的所有整数的和\n",
    "s = 0\n",
    "n = 30\n",
    "for i in range(1, n + 1):\n",
    "    if i % 3 == 0 and i % 5 == 0:  # 有15，30\n",
    "        s = s + i\n",
    "print(s)"
   ]
  },
  {
   "cell_type": "code",
   "execution_count": 34,
   "metadata": {},
   "outputs": [
    {
     "name": "stdout",
     "output_type": "stream",
     "text": [
      "33\n"
     ]
    }
   ],
   "source": [
    "# 选择，or(或)操作, 求10以内，能被3，或能被5整数的所有整数的和\n",
    "s = 0\n",
    "n = 10\n",
    "for i in range(1, n + 1):\n",
    "    if i % 3 == 0 or i % 5 == 0:  # 有 3，5，6，9，10\n",
    "        s = s + i\n",
    "print(s)"
   ]
  },
  {
   "cell_type": "code",
   "execution_count": 29,
   "metadata": {},
   "outputs": [
    {
     "name": "stdout",
     "output_type": "stream",
     "text": [
      "17\n"
     ]
    }
   ],
   "source": [
    "# continue 求10以内，能被3或能被5整数, 但不能被2整除的所有整数的和\n",
    "s = 0\n",
    "n = 10\n",
    "for i in range(1, n + 1):\n",
    "    if i % 2 == 0:\n",
    "        continue\n",
    "    if i % 3 == 0 or i % 5 == 0:  # 有 3，5，9\n",
    "        s = s + i\n",
    "print(s)\n"
   ]
  },
  {
   "cell_type": "code",
   "execution_count": 30,
   "metadata": {},
   "outputs": [
    {
     "name": "stdout",
     "output_type": "stream",
     "text": [
      "55\n"
     ]
    }
   ],
   "source": [
    "# 循环 while, 求1 + 2 + ... + 10的和, \n",
    "s = 0\n",
    "i = 1\n",
    "n = 10\n",
    "while i <= n:\n",
    "    s = s + i\n",
    "    i = i + 1\n",
    "print(s)"
   ]
  },
  {
   "cell_type": "code",
   "execution_count": 37,
   "metadata": {},
   "outputs": [
    {
     "name": "stdout",
     "output_type": "stream",
     "text": [
      "45\n"
     ]
    }
   ],
   "source": [
    "# while, 求前6个能被3或5整除的整数的和\n",
    "s = 0\n",
    "i = 1\n",
    "count = 0\n",
    "n = 6\n",
    "while count < n:\n",
    "    if i % 3 == 0 or i % 5 == 0: # 前6个为 3，5，6，9，10, 12\n",
    "        s = s + i\n",
    "        count = count + 1\n",
    "    i += 1\n",
    "print(s)"
   ]
  },
  {
   "cell_type": "code",
   "execution_count": 38,
   "metadata": {},
   "outputs": [
    {
     "name": "stdout",
     "output_type": "stream",
     "text": [
      "45\n"
     ]
    }
   ],
   "source": [
    "# break, 求前6个能被3或5整除的整数的和\n",
    "s = 0\n",
    "i = 1\n",
    "count = 0\n",
    "n = 6\n",
    "while True:\n",
    "    if i % 3 == 0 or i % 5 == 0: # 前6个为 3，5，6，9，10, 12\n",
    "        s = s + i\n",
    "        count = count + 1\n",
    "        if count == n:\n",
    "            break\n",
    "    i += 1\n",
    "print(s)"
   ]
  },
  {
   "cell_type": "code",
   "execution_count": null,
   "metadata": {},
   "outputs": [],
   "source": [
    "# set, 集合，提高查询速度\n",
    "s = list(range(1, 100000000))\n",
    "x = set(s)\n",
    "print('#')\n",
    "print(99999999 in s)\n",
    "print('##')\n",
    "print(99999999 in x)"
   ]
  },
  {
   "cell_type": "code",
   "execution_count": 1,
   "metadata": {},
   "outputs": [
    {
     "name": "stdout",
     "output_type": "stream",
     "text": [
      "65\n"
     ]
    }
   ],
   "source": [
    "# dict, 字典，key, value形式，用来提高查询速度，应用广泛，例如查询身份证号对应的一些个人用户信息\n",
    "d = {'a': 65, 'b': 66}\n",
    "print(d['a'])"
   ]
  },
  {
   "cell_type": "code",
   "execution_count": 2,
   "metadata": {},
   "outputs": [
    {
     "name": "stdout",
     "output_type": "stream",
     "text": [
      "55\n",
      "14\n"
     ]
    }
   ],
   "source": [
    "# 函数\n",
    "def my_sum(a, b):\n",
    "    s = 0\n",
    "    for i in range(a, b + 1):\n",
    "        s = s + i\n",
    "    return s\n",
    "\n",
    "print(my_sum(1, 10))\n",
    "print(my_sum(2, 5))"
   ]
  },
  {
   "cell_type": "code",
   "execution_count": null,
   "metadata": {},
   "outputs": [],
   "source": []
  }
 ],
 "metadata": {
  "kernelspec": {
   "display_name": "Python 3",
   "language": "python",
   "name": "python3"
  },
  "language_info": {
   "codemirror_mode": {
    "name": "ipython",
    "version": 3
   },
   "file_extension": ".py",
   "mimetype": "text/x-python",
   "name": "python",
   "nbconvert_exporter": "python",
   "pygments_lexer": "ipython3",
   "version": "3.6.7"
  }
 },
 "nbformat": 4,
 "nbformat_minor": 2
}
